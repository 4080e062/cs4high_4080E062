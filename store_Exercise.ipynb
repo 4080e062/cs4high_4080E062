{
  "nbformat": 4,
  "nbformat_minor": 0,
  "metadata": {
    "colab": {
      "name": "store Exercise.ipynb",
      "provenance": [],
      "include_colab_link": true
    },
    "kernelspec": {
      "name": "python3",
      "display_name": "Python 3"
    }
  },
  "cells": [
    {
      "cell_type": "markdown",
      "metadata": {
        "id": "view-in-github",
        "colab_type": "text"
      },
      "source": [
        "<a href=\"https://colab.research.google.com/github/4080e062/cs4high_4080E062/blob/master/store_Exercise.ipynb\" target=\"_parent\"><img src=\"https://colab.research.google.com/assets/colab-badge.svg\" alt=\"Open In Colab\"/></a>"
      ]
    },
    {
      "cell_type": "markdown",
      "metadata": {
        "id": "JEPqFoDeFrTj",
        "colab_type": "text"
      },
      "source": [
        "電子產品販賣"
      ]
    },
    {
      "cell_type": "code",
      "metadata": {
        "id": "CxhLaaw1w5Uc",
        "colab_type": "code",
        "colab": {
          "base_uri": "https://localhost:8080/",
          "height": 170
        },
        "outputId": "89030765-567d-46b4-8730-be42fed51f90"
      },
      "source": [
        "# tt編號 a價格變數 u購買數量 f總價格 i是否繼續 b是否選擇 h正確與否\n",
        "\n",
        "print(\"1.碟片 2.滑鼠 3鍵盤\")\n",
        "print(\"  100    350   800\")\n",
        "i = 0\n",
        "f = 0\n",
        "h = 0\n",
        "while h == 0:\n",
        "  while i == 0:\n",
        "    tt=int(input(\"輸入購買商品編號:\"))\n",
        "    if tt == 1:\n",
        "      a = 100\n",
        "    elif tt == 2:\n",
        "      a = 350\n",
        "    elif tt == 3:\n",
        "      a = 800\n",
        "    else :\n",
        "      print(\"請輸入正確編碼\")\n",
        "      break\n",
        "    print()\n",
        "    u = int(input(\"輸入購買數量\"))\n",
        "    f = a * u + f\n",
        "    b = input(\"是否繼續購買y/n:  \")\n",
        "    if b == \"n\":\n",
        "      i = 1  \n",
        "      h = 1\n",
        "print(\"總共是:\",+f)  \n",
        "\n",
        "  \n",
        "  \n",
        "\n",
        "\n",
        "\n"
      ],
      "execution_count": 42,
      "outputs": [
        {
          "output_type": "stream",
          "text": [
            "1.碟片 2.滑鼠 3鍵盤\n",
            " 100  2.350  3.800\n",
            "輸入購買商品編號:6\n",
            "請輸入正確編碼\n",
            "輸入購買商品編號:1\n",
            "\n",
            "輸入購買數量2\n",
            "是否繼續購買y/n:  n\n",
            "總共是: 200\n"
          ],
          "name": "stdout"
        }
      ]
    }
  ]
}