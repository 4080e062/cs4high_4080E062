{
  "nbformat": 4,
  "nbformat_minor": 0,
  "metadata": {
    "colab": {
      "name": "Python_1.ipynb",
      "provenance": [],
      "collapsed_sections": [],
      "include_colab_link": true
    },
    "kernelspec": {
      "name": "python3",
      "display_name": "Python 3"
    },
    "accelerator": "GPU"
  },
  "cells": [
    {
      "cell_type": "markdown",
      "metadata": {
        "id": "view-in-github",
        "colab_type": "text"
      },
      "source": [
        "<a href=\"https://colab.research.google.com/github/4080e062/cs4high_4080E062/blob/master/Python_1.ipynb\" target=\"_parent\"><img src=\"https://colab.research.google.com/assets/colab-badge.svg\" alt=\"Open In Colab\"/></a>"
      ]
    },
    {
      "cell_type": "markdown",
      "metadata": {
        "id": "cSrziJZiuiQC",
        "colab_type": "text"
      },
      "source": [
        "#受難日第一天 20190913"
      ]
    },
    {
      "cell_type": "code",
      "metadata": {
        "colab_type": "code",
        "id": "SBlhj-gHIh0d",
        "colab": {}
      },
      "source": [
        "變換常數型態"
      ],
      "execution_count": 0,
      "outputs": []
    },
    {
      "cell_type": "code",
      "metadata": {
        "id": "qC3XYIB8IWWG",
        "colab_type": "code",
        "outputId": "9548ce77-b9d1-4018-ef87-6a3f71a39653",
        "colab": {
          "base_uri": "https://localhost:8080/",
          "height": 51
        }
      },
      "source": [
        "a=int(input(\"請輸入:\"))\n",
        "a"
      ],
      "execution_count": 0,
      "outputs": [
        {
          "output_type": "stream",
          "text": [
            "請輸入:123\n"
          ],
          "name": "stdout"
        },
        {
          "output_type": "execute_result",
          "data": {
            "text/plain": [
              "123"
            ]
          },
          "metadata": {
            "tags": []
          },
          "execution_count": 7
        }
      ]
    },
    {
      "cell_type": "markdown",
      "metadata": {
        "id": "IXiiqupXFArj",
        "colab_type": "text"
      },
      "source": [
        "sincf 簡單加減"
      ]
    },
    {
      "cell_type": "code",
      "metadata": {
        "id": "4ljyJp_XtTIk",
        "colab_type": "code",
        "outputId": "c63b0d7d-d928-45dd-8b80-84c7cf747a50",
        "colab": {
          "base_uri": "https://localhost:8080/",
          "height": 51
        }
      },
      "source": [
        "a=int(input(\"請輸入:\"))\n",
        "b=a+1\n",
        "b\n"
      ],
      "execution_count": 0,
      "outputs": [
        {
          "output_type": "stream",
          "text": [
            "請輸入:100\n"
          ],
          "name": "stdout"
        },
        {
          "output_type": "execute_result",
          "data": {
            "text/plain": [
              "101"
            ]
          },
          "metadata": {
            "tags": []
          },
          "execution_count": 6
        }
      ]
    },
    {
      "cell_type": "markdown",
      "metadata": {
        "id": "17QcpPOdFCwU",
        "colab_type": "text"
      },
      "source": [
        "printf圖案"
      ]
    },
    {
      "cell_type": "code",
      "metadata": {
        "id": "vhNHE9KcFEY3",
        "colab_type": "code",
        "outputId": "e2fa837a-1df2-4ae0-c066-a7490ba70ffa",
        "colab": {
          "base_uri": "https://localhost:8080/",
          "height": 119
        }
      },
      "source": [
        "print('   ****      *   *')\n",
        "print('  *    *     *  *')\n",
        "print('  *    *     * *')\n",
        "print('  *    *     ** *')\n",
        "print('  *    *     *   *')\n",
        "print('   ****      *    *')"
      ],
      "execution_count": 0,
      "outputs": [
        {
          "output_type": "stream",
          "text": [
            "   ****      *   *\n",
            "  *    *     *  *\n",
            "  *    *     * *\n",
            "  *    *     ** *\n",
            "  *    *     *   *\n",
            "   ****      *    *\n"
          ],
          "name": "stdout"
        }
      ]
    },
    {
      "cell_type": "markdown",
      "metadata": {
        "id": "FcTHAyRTJLPa",
        "colab_type": "text"
      },
      "source": [
        "scanf 2個數字 ,隔開"
      ]
    },
    {
      "cell_type": "code",
      "metadata": {
        "id": "vnr_Xd0FJxmw",
        "colab_type": "code",
        "colab": {
          "base_uri": "https://localhost:8080/",
          "height": 68
        },
        "outputId": "2ea9d7d2-6b41-4a08-d0f7-fc8980d864ff"
      },
      "source": [
        "a,b = eval(input(\"input two num:\"))\n",
        "print(a)\n",
        "print(b)"
      ],
      "execution_count": 12,
      "outputs": [
        {
          "output_type": "stream",
          "text": [
            "input two num:22,55\n",
            "22\n",
            "55\n"
          ],
          "name": "stdout"
        }
      ]
    },
    {
      "cell_type": "code",
      "metadata": {
        "id": "CMSGWBGVKLwt",
        "colab_type": "code",
        "colab": {
          "base_uri": "https://localhost:8080/",
          "height": 85
        },
        "outputId": "6b5c0d87-ede4-4774-a5a0-fa900547c639"
      },
      "source": [
        "x, y, z = [int(x) for x in input(\"Enter three value: \").split( )] \n",
        "print(\"One Number is: \", x) \n",
        "print(\"Two Number is: \", y) \n",
        "print(\"three Number is: \", z) \n"
      ],
      "execution_count": 14,
      "outputs": [
        {
          "output_type": "stream",
          "text": [
            "Enter three value: 22 33 88\n",
            "One Number is:  22\n",
            "Two Number is:  33\n",
            "three Number is:  88\n"
          ],
          "name": "stdout"
        }
      ]
    }
  ]
}
